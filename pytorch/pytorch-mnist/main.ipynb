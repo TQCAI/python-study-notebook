{
 "cells": [
  {
   "cell_type": "code",
   "execution_count": 9,
   "metadata": {},
   "outputs": [],
   "source": [
    "import torch\n",
    "import torchvision\n",
    "from torch.autograd import Variable\n",
    "from torch.utils.data.dataloader import DataLoader"
   ]
  },
  {
   "cell_type": "code",
   "execution_count": 2,
   "metadata": {},
   "outputs": [
    {
     "name": "stderr",
     "output_type": "stream",
     "text": [
      "\r",
      "0it [00:00, ?it/s]"
     ]
    },
    {
     "name": "stdout",
     "output_type": "stream",
     "text": [
      "Downloading http://yann.lecun.com/exdb/mnist/train-images-idx3-ubyte.gz to ./mnist/MNIST/raw/train-images-idx3-ubyte.gz\n"
     ]
    },
    {
     "name": "stderr",
     "output_type": "stream",
     "text": [
      "100%|█████████▉| 9912320/9912422 [05:32<00:00, 22734.20it/s]"
     ]
    },
    {
     "name": "stdout",
     "output_type": "stream",
     "text": [
      "Extracting ./mnist/MNIST/raw/train-images-idx3-ubyte.gz\n"
     ]
    },
    {
     "name": "stderr",
     "output_type": "stream",
     "text": [
      "\n",
      "0it [00:00, ?it/s]\u001b[A"
     ]
    },
    {
     "name": "stdout",
     "output_type": "stream",
     "text": [
      "Downloading http://yann.lecun.com/exdb/mnist/train-labels-idx1-ubyte.gz to ./mnist/MNIST/raw/train-labels-idx1-ubyte.gz\n"
     ]
    },
    {
     "name": "stderr",
     "output_type": "stream",
     "text": [
      "\n",
      "  0%|          | 0/28881 [00:00<?, ?it/s]\u001b[A\n",
      " 57%|█████▋    | 16384/28881 [00:00<00:00, 36283.35it/s]\u001b[A\n",
      "32768it [00:00, 35966.39it/s]                           \u001b[A\n",
      "0it [00:00, ?it/s]\u001b[A"
     ]
    },
    {
     "name": "stdout",
     "output_type": "stream",
     "text": [
      "Extracting ./mnist/MNIST/raw/train-labels-idx1-ubyte.gz\n",
      "Downloading http://yann.lecun.com/exdb/mnist/t10k-images-idx3-ubyte.gz to ./mnist/MNIST/raw/t10k-images-idx3-ubyte.gz\n"
     ]
    },
    {
     "name": "stderr",
     "output_type": "stream",
     "text": [
      "\n",
      "  0%|          | 0/1648877 [00:00<?, ?it/s]\u001b[A\n",
      "  1%|          | 16384/1648877 [00:00<00:22, 74000.76it/s]\u001b[A\n",
      "  2%|▏         | 32768/1648877 [00:00<00:22, 72165.71it/s]\u001b[A\n",
      "  3%|▎         | 49152/1648877 [00:01<00:21, 72856.31it/s]\u001b[A\n",
      "  3%|▎         | 57344/1648877 [00:01<00:31, 50041.92it/s]\u001b[A\n",
      "  4%|▍         | 73728/1648877 [00:01<00:26, 59809.69it/s]\u001b[A\n",
      "  5%|▍         | 81920/1648877 [00:01<00:30, 50752.66it/s]\u001b[A\n",
      "  6%|▌         | 98304/1648877 [00:02<00:27, 56155.36it/s]\u001b[A\n",
      "  6%|▋         | 106496/1648877 [00:02<00:31, 49261.30it/s]\u001b[A\n",
      "  7%|▋         | 122880/1648877 [00:02<00:33, 44988.76it/s]\u001b[A\n",
      "  9%|▉         | 147456/1648877 [00:02<00:28, 52461.88it/s]\u001b[A\n",
      "  9%|▉         | 155648/1648877 [00:03<00:27, 53343.46it/s]\u001b[A\n",
      " 10%|▉         | 163840/1648877 [00:03<00:38, 38298.06it/s]\u001b[A\n",
      " 11%|█▏        | 188416/1648877 [00:03<00:35, 41143.97it/s]\u001b[A\n",
      " 12%|█▏        | 196608/1648877 [00:04<00:36, 40130.87it/s]\u001b[A\n",
      " 12%|█▏        | 204800/1648877 [00:04<00:37, 38187.55it/s]\u001b[A\n",
      " 13%|█▎        | 212992/1648877 [00:04<00:41, 34526.21it/s]\u001b[A\n",
      " 13%|█▎        | 221184/1648877 [00:05<00:58, 24523.35it/s]\u001b[A\n",
      " 14%|█▍        | 229376/1648877 [00:05<00:48, 29127.68it/s]\u001b[A\n",
      " 14%|█▍        | 237568/1648877 [00:05<00:45, 31204.93it/s]\u001b[A\n",
      " 15%|█▍        | 245760/1648877 [00:05<00:49, 28624.29it/s]\u001b[A\n",
      " 15%|█▌        | 253952/1648877 [00:06<00:45, 30805.82it/s]\u001b[A\n",
      " 16%|█▌        | 262144/1648877 [00:06<00:42, 32548.42it/s]\u001b[A\n",
      " 16%|█▋        | 270336/1648877 [00:06<00:40, 33977.39it/s]\u001b[A\n",
      " 17%|█▋        | 278528/1648877 [00:06<00:41, 33004.90it/s]\u001b[A\n",
      " 17%|█▋        | 286720/1648877 [00:07<00:45, 30267.14it/s]\u001b[A\n",
      " 18%|█▊        | 294912/1648877 [00:07<00:42, 32199.18it/s]\u001b[A\n",
      " 18%|█▊        | 303104/1648877 [00:08<00:58, 22848.21it/s]\u001b[A\n",
      " 19%|█▉        | 319488/1648877 [00:08<00:51, 25879.96it/s]\u001b[A\n",
      " 20%|█▉        | 327680/1648877 [00:08<00:46, 28612.34it/s]\u001b[A\n",
      " 20%|██        | 335872/1648877 [00:08<00:42, 30801.64it/s]\u001b[A\n",
      " 21%|██        | 344064/1648877 [00:09<00:42, 30903.76it/s]\u001b[A\n",
      " 21%|██▏       | 352256/1648877 [00:09<00:39, 32510.97it/s]\u001b[A\n",
      " 22%|██▏       | 360448/1648877 [00:09<00:38, 33796.25it/s]\u001b[A\n",
      " 22%|██▏       | 368640/1648877 [00:09<00:31, 40659.48it/s]\u001b[A\n",
      " 23%|██▎       | 376832/1648877 [00:09<00:31, 39766.34it/s]\u001b[A\n",
      " 23%|██▎       | 385024/1648877 [00:10<00:29, 42933.73it/s]\u001b[A\n",
      " 24%|██▍       | 393216/1648877 [00:10<00:28, 43865.52it/s]\u001b[A\n",
      " 24%|██▍       | 401408/1648877 [00:10<00:34, 36120.06it/s]\u001b[A\n",
      " 25%|██▍       | 409600/1648877 [00:10<00:29, 42469.88it/s]\u001b[A\n",
      " 25%|██▌       | 417792/1648877 [00:10<00:30, 40837.62it/s]\u001b[A\n",
      " 26%|██▌       | 425984/1648877 [00:11<00:30, 39829.92it/s]\u001b[A\n",
      " 26%|██▋       | 434176/1648877 [00:11<00:28, 43144.00it/s]\u001b[A\n",
      " 27%|██▋       | 442368/1648877 [00:11<00:27, 44640.16it/s]\u001b[A\n",
      " 27%|██▋       | 450560/1648877 [00:11<00:23, 50338.77it/s]\u001b[A\n",
      " 28%|██▊       | 458752/1648877 [00:11<00:32, 36511.58it/s]\u001b[A\n",
      " 29%|██▉       | 475136/1648877 [00:12<00:34, 33866.30it/s]\u001b[A\n",
      " 30%|██▉       | 491520/1648877 [00:12<00:28, 40547.87it/s]\u001b[A\n",
      " 30%|███       | 499712/1648877 [00:13<00:39, 28857.78it/s]\u001b[A\n",
      " 31%|███       | 507904/1648877 [00:13<00:53, 21428.28it/s]\u001b[A\n",
      " 31%|███▏      | 516096/1648877 [00:14<00:52, 21611.06it/s]\u001b[A\n",
      " 32%|███▏      | 524288/1648877 [00:15<01:21, 13866.89it/s]\u001b[A\n",
      "9920512it [05:50, 22734.20it/s]                             [A\n",
      " 33%|███▎      | 540672/1648877 [00:16<01:19, 13881.70it/s]\u001b[A\n",
      " 33%|███▎      | 548864/1648877 [00:17<01:24, 13035.37it/s]\u001b[A\n",
      " 34%|███▍      | 557056/1648877 [00:17<01:13, 14885.10it/s]\u001b[A\n",
      " 34%|███▍      | 565248/1648877 [00:17<01:08, 15903.19it/s]\u001b[A\n",
      " 35%|███▍      | 573440/1648877 [00:18<01:04, 16673.56it/s]\u001b[A\n",
      " 35%|███▌      | 581632/1648877 [00:18<00:56, 19039.25it/s]\u001b[A\n",
      " 36%|███▌      | 589824/1648877 [00:18<00:49, 21354.87it/s]\u001b[A\n",
      " 36%|███▋      | 598016/1648877 [00:19<00:48, 21458.74it/s]\u001b[A\n",
      " 37%|███▋      | 606208/1648877 [00:19<00:42, 24616.74it/s]\u001b[A\n",
      " 38%|███▊      | 622592/1648877 [00:19<00:34, 29898.61it/s]\u001b[A\n",
      " 38%|███▊      | 630784/1648877 [00:20<00:40, 25370.35it/s]\u001b[A\n",
      " 39%|███▉      | 647168/1648877 [00:20<00:32, 30956.27it/s]\u001b[A\n",
      " 40%|███▉      | 655360/1648877 [00:20<00:38, 25889.74it/s]\u001b[A\n",
      " 40%|████      | 663552/1648877 [00:21<00:34, 28623.86it/s]\u001b[A\n",
      " 41%|████      | 671744/1648877 [00:21<00:31, 30799.66it/s]\u001b[A\n",
      " 41%|████      | 679936/1648877 [00:21<00:37, 25893.59it/s]\u001b[A\n",
      " 42%|████▏     | 688128/1648877 [00:22<00:39, 24085.01it/s]\u001b[A\n",
      " 42%|████▏     | 696320/1648877 [00:22<00:36, 25983.61it/s]\u001b[A\n",
      " 43%|████▎     | 704512/1648877 [00:22<00:42, 22053.39it/s]\u001b[A\n",
      " 43%|████▎     | 712704/1648877 [00:23<00:37, 25222.75it/s]\u001b[A\n",
      " 44%|████▎     | 720896/1648877 [00:23<00:40, 22881.49it/s]\u001b[A\n",
      " 44%|████▍     | 729088/1648877 [00:23<00:42, 21506.27it/s]\u001b[A\n",
      " 45%|████▍     | 737280/1648877 [00:24<00:36, 24676.22it/s]\u001b[A\n",
      " 45%|████▌     | 745472/1648877 [00:24<00:47, 19149.09it/s]\u001b[A\n",
      " 46%|████▌     | 753664/1648877 [00:25<00:37, 23676.18it/s]\u001b[A\n",
      " 46%|████▌     | 761856/1648877 [00:25<00:37, 23736.35it/s]\u001b[A\n",
      " 47%|████▋     | 770048/1648877 [00:25<00:35, 24487.67it/s]\u001b[A\n",
      " 47%|████▋     | 778240/1648877 [00:25<00:33, 25778.10it/s]\u001b[A\n",
      " 48%|████▊     | 786432/1648877 [00:26<00:30, 28458.09it/s]\u001b[A\n",
      " 48%|████▊     | 794624/1648877 [00:26<00:29, 28775.07it/s]\u001b[A\n",
      " 49%|████▊     | 802816/1648877 [00:26<00:27, 30929.95it/s]\u001b[A\n",
      " 49%|████▉     | 811008/1648877 [00:26<00:25, 32737.08it/s]\u001b[A\n",
      " 50%|████▉     | 819200/1648877 [00:27<00:24, 34093.94it/s]\u001b[A\n",
      " 50%|█████     | 827392/1648877 [00:27<00:21, 37992.42it/s]\u001b[A\n",
      " 51%|█████     | 835584/1648877 [00:27<00:19, 41843.58it/s]\u001b[A\n",
      " 51%|█████     | 843776/1648877 [00:27<00:21, 36818.04it/s]\u001b[A\n",
      " 52%|█████▏    | 851968/1648877 [00:28<00:27, 28573.48it/s]\u001b[A\n",
      " 52%|█████▏    | 860160/1648877 [00:28<00:25, 30862.30it/s]\u001b[A\n",
      " 53%|█████▎    | 868352/1648877 [00:28<00:26, 28983.96it/s]\u001b[A\n",
      " 53%|█████▎    | 876544/1648877 [00:28<00:24, 31163.57it/s]\u001b[A\n",
      " 54%|█████▎    | 884736/1648877 [00:29<00:23, 32852.24it/s]\u001b[A\n",
      " 54%|█████▍    | 892928/1648877 [00:29<00:32, 23345.68it/s]\u001b[A\n",
      " 55%|█████▌    | 909312/1648877 [00:29<00:26, 28418.41it/s]\u001b[A\n",
      " 56%|█████▌    | 917504/1648877 [00:30<00:23, 30721.11it/s]\u001b[A\n",
      " 56%|█████▌    | 925696/1648877 [00:30<00:22, 32476.64it/s]\u001b[A\n",
      " 57%|█████▋    | 933888/1648877 [00:30<00:28, 25079.14it/s]\u001b[A\n",
      " 57%|█████▋    | 942080/1648877 [00:31<00:29, 24089.66it/s]\u001b[A\n",
      " 58%|█████▊    | 950272/1648877 [00:31<00:27, 25392.58it/s]\u001b[A\n",
      " 58%|█████▊    | 958464/1648877 [00:32<00:33, 20360.80it/s]\u001b[A\n",
      " 59%|█████▊    | 966656/1648877 [00:32<00:28, 23593.70it/s]\u001b[A\n",
      " 59%|█████▉    | 974848/1648877 [00:32<00:25, 26541.52it/s]\u001b[A\n",
      " 60%|█████▉    | 983040/1648877 [00:32<00:22, 29151.93it/s]\u001b[A\n",
      " 60%|██████    | 991232/1648877 [00:33<00:26, 24977.11it/s]\u001b[A\n",
      " 61%|██████    | 999424/1648877 [00:33<00:24, 26059.99it/s]\u001b[A\n",
      " 61%|██████    | 1007616/1648877 [00:33<00:27, 23331.01it/s]\u001b[A\n",
      " 62%|██████▏   | 1015808/1648877 [00:34<00:29, 21780.85it/s]\u001b[A\n",
      " 62%|██████▏   | 1024000/1648877 [00:34<00:28, 21915.40it/s]\u001b[A\n",
      " 63%|██████▎   | 1032192/1648877 [00:35<00:26, 23603.84it/s]\u001b[A\n",
      " 63%|██████▎   | 1040384/1648877 [00:35<00:38, 15627.67it/s]\u001b[A\n",
      " 64%|██████▎   | 1048576/1648877 [00:36<00:34, 17153.93it/s]\u001b[A\n",
      " 64%|██████▍   | 1056768/1648877 [00:36<00:33, 17633.03it/s]\u001b[A\n",
      " 65%|██████▍   | 1064960/1648877 [00:37<00:29, 19956.17it/s]\u001b[A\n",
      " 65%|██████▌   | 1073152/1648877 [00:37<00:29, 19614.86it/s]\u001b[A\n",
      " 66%|██████▌   | 1081344/1648877 [00:37<00:24, 22859.31it/s]\u001b[A\n",
      " 66%|██████▌   | 1089536/1648877 [00:37<00:21, 25912.65it/s]\u001b[A\n",
      " 67%|██████▋   | 1097728/1648877 [00:38<00:19, 28633.89it/s]\u001b[A\n",
      " 67%|██████▋   | 1105920/1648877 [00:38<00:17, 30814.86it/s]\u001b[A\n",
      " 68%|██████▊   | 1114112/1648877 [00:38<00:16, 32550.31it/s]\u001b[A\n",
      " 68%|██████▊   | 1122304/1648877 [00:38<00:15, 34025.13it/s]\u001b[A\n",
      " 69%|██████▉   | 1138688/1648877 [00:39<00:14, 34977.12it/s]\u001b[A\n",
      " 70%|███████   | 1155072/1648877 [00:39<00:12, 40438.46it/s]\u001b[A\n",
      " 71%|███████   | 1163264/1648877 [00:39<00:16, 30063.39it/s]\u001b[A\n",
      " 72%|███████▏  | 1179648/1648877 [00:40<00:14, 32804.18it/s]\u001b[A\n",
      " 72%|███████▏  | 1187840/1648877 [00:40<00:17, 26846.75it/s]\u001b[A\n",
      " 73%|███████▎  | 1204224/1648877 [00:41<00:15, 29345.14it/s]\u001b[A\n",
      " 74%|███████▎  | 1212416/1648877 [00:41<00:14, 30067.49it/s]\u001b[A\n",
      " 74%|███████▍  | 1220608/1648877 [00:41<00:17, 24029.24it/s]\u001b[A\n"
     ]
    },
    {
     "name": "stderr",
     "output_type": "stream",
     "text": [
      " 75%|███████▍  | 1228800/1648877 [00:42<00:14, 28881.72it/s]\u001b[A\n",
      " 75%|███████▌  | 1236992/1648877 [00:42<00:13, 30981.82it/s]\u001b[A\n",
      " 76%|███████▌  | 1245184/1648877 [00:42<00:15, 26006.95it/s]\u001b[A\n",
      " 76%|███████▌  | 1253376/1648877 [00:43<00:14, 26708.60it/s]\u001b[A\n",
      " 77%|███████▋  | 1261568/1648877 [00:43<00:16, 23741.46it/s]\u001b[A\n",
      " 77%|███████▋  | 1269760/1648877 [00:43<00:14, 26670.01it/s]\u001b[A\n",
      " 78%|███████▊  | 1277952/1648877 [00:44<00:14, 25299.08it/s]\u001b[A\n",
      " 78%|███████▊  | 1286144/1648877 [00:44<00:15, 22945.35it/s]\u001b[A\n",
      " 79%|███████▉  | 1302528/1648877 [00:45<00:14, 23205.81it/s]\u001b[A\n",
      " 79%|███████▉  | 1310720/1648877 [00:45<00:11, 29431.37it/s]\u001b[A\n",
      " 80%|███████▉  | 1318912/1648877 [00:45<00:11, 28927.41it/s]\u001b[A\n",
      " 80%|████████  | 1327104/1648877 [00:45<00:11, 27918.89it/s]\u001b[A\n",
      " 81%|████████  | 1335296/1648877 [00:46<00:12, 24933.57it/s]\u001b[A\n",
      " 81%|████████▏ | 1343488/1648877 [00:46<00:12, 24262.74it/s]\u001b[A\n",
      " 82%|████████▏ | 1351680/1648877 [00:47<00:13, 22300.20it/s]\u001b[A\n",
      " 82%|████████▏ | 1359872/1648877 [00:47<00:17, 16950.96it/s]\u001b[A\n",
      " 83%|████████▎ | 1368064/1648877 [00:48<00:16, 17448.62it/s]\u001b[A\n",
      " 83%|████████▎ | 1376256/1648877 [00:48<00:15, 17848.32it/s]\u001b[A\n",
      " 84%|████████▍ | 1384448/1648877 [00:49<00:16, 15837.30it/s]\u001b[A\n",
      " 84%|████████▍ | 1392640/1648877 [00:50<00:19, 13137.21it/s]\u001b[A\n",
      " 85%|████████▍ | 1400832/1648877 [00:50<00:19, 12569.43it/s]\u001b[A\n",
      " 85%|████████▌ | 1409024/1648877 [00:51<00:17, 13595.74it/s]\u001b[A\n",
      " 86%|████████▌ | 1417216/1648877 [00:51<00:15, 14850.27it/s]\u001b[A\n",
      " 86%|████████▋ | 1425408/1648877 [00:52<00:15, 13981.92it/s]\u001b[A\n",
      " 87%|████████▋ | 1433600/1648877 [00:53<00:15, 13527.19it/s]\u001b[A\n",
      " 87%|████████▋ | 1441792/1648877 [00:53<00:15, 13299.40it/s]\u001b[A\n",
      " 88%|████████▊ | 1449984/1648877 [00:54<00:13, 14572.74it/s]\u001b[A\n",
      " 88%|████████▊ | 1458176/1648877 [00:54<00:10, 17730.92it/s]\u001b[A\n",
      " 89%|████████▉ | 1466368/1648877 [00:54<00:10, 18181.97it/s]\u001b[A\n",
      " 89%|████████▉ | 1474560/1648877 [00:55<00:08, 21336.25it/s]\u001b[A\n",
      " 90%|████████▉ | 1482752/1648877 [00:55<00:06, 24470.36it/s]\u001b[A\n",
      " 90%|█████████ | 1490944/1648877 [00:55<00:05, 27312.94it/s]\u001b[A\n",
      " 91%|█████████ | 1499136/1648877 [00:55<00:04, 30248.77it/s]\u001b[A\n",
      " 91%|█████████▏| 1507328/1648877 [00:56<00:04, 32101.02it/s]\u001b[A\n",
      " 92%|█████████▏| 1515520/1648877 [00:56<00:04, 27702.50it/s]\u001b[A\n",
      " 93%|█████████▎| 1531904/1648877 [00:56<00:04, 29145.67it/s]\u001b[A\n",
      " 94%|█████████▍| 1548288/1648877 [00:57<00:02, 35688.50it/s]\u001b[A\n",
      " 94%|█████████▍| 1556480/1648877 [00:57<00:02, 31367.99it/s]\u001b[A\n",
      " 95%|█████████▍| 1564672/1648877 [00:57<00:02, 29457.55it/s]\u001b[A\n",
      " 95%|█████████▌| 1572864/1648877 [00:57<00:02, 31479.05it/s]\u001b[A\n",
      " 96%|█████████▌| 1581056/1648877 [00:58<00:02, 33169.30it/s]\u001b[A\n",
      " 96%|█████████▋| 1589248/1648877 [00:58<00:01, 34309.06it/s]\u001b[A\n",
      " 97%|█████████▋| 1597440/1648877 [00:58<00:01, 35251.39it/s]\u001b[A\n",
      " 97%|█████████▋| 1605632/1648877 [00:58<00:01, 35990.98it/s]\u001b[A\n",
      " 98%|█████████▊| 1622016/1648877 [00:59<00:00, 42567.01it/s]\u001b[A\n",
      " 99%|█████████▉| 1630208/1648877 [00:59<00:00, 40904.15it/s]\u001b[A\n",
      " 99%|█████████▉| 1638400/1648877 [00:59<00:00, 40086.29it/s]\u001b[A\n",
      "\n",
      "0it [00:00, ?it/s]\u001b[A\u001b[A"
     ]
    },
    {
     "name": "stdout",
     "output_type": "stream",
     "text": [
      "Extracting ./mnist/MNIST/raw/t10k-images-idx3-ubyte.gz\n",
      "Downloading http://yann.lecun.com/exdb/mnist/t10k-labels-idx1-ubyte.gz to ./mnist/MNIST/raw/t10k-labels-idx1-ubyte.gz\n"
     ]
    },
    {
     "name": "stderr",
     "output_type": "stream",
     "text": [
      "\n",
      "\n",
      "  0%|          | 0/4542 [00:00<?, ?it/s]\u001b[A\u001b[A\n",
      "\n",
      "8192it [00:00, 18171.84it/s]            \u001b[A\u001b[A"
     ]
    },
    {
     "name": "stdout",
     "output_type": "stream",
     "text": [
      "Extracting ./mnist/MNIST/raw/t10k-labels-idx1-ubyte.gz\n",
      "Processing...\n",
      "Done!\n"
     ]
    },
    {
     "name": "stderr",
     "output_type": "stream",
     "text": [
      "\n",
      "1654784it [01:16, 40086.29it/s]                             \u001b[A"
     ]
    }
   ],
   "source": [
    "train_data = torchvision.datasets.MNIST(\n",
    "    './mnist', train=True, transform=torchvision.transforms.ToTensor(), download=True\n",
    ")"
   ]
  },
  {
   "cell_type": "code",
   "execution_count": 3,
   "metadata": {},
   "outputs": [],
   "source": [
    "test_data = torchvision.datasets.MNIST(\n",
    "    './mnist', train=False, transform=torchvision.transforms.ToTensor()\n",
    ")"
   ]
  },
  {
   "cell_type": "code",
   "execution_count": 5,
   "metadata": {},
   "outputs": [
    {
     "data": {
      "text/plain": [
       "torch.Size([60000, 28, 28])"
      ]
     },
     "execution_count": 5,
     "metadata": {},
     "output_type": "execute_result"
    }
   ],
   "source": [
    "train_data.train_data.size()"
   ]
  },
  {
   "cell_type": "code",
   "execution_count": 7,
   "metadata": {},
   "outputs": [
    {
     "name": "stderr",
     "output_type": "stream",
     "text": [
      "/home/tqc/anaconda3/lib/python3.7/site-packages/torchvision/datasets/mnist.py:43: UserWarning: train_labels has been renamed targets\n",
      "  warnings.warn(\"train_labels has been renamed targets\")\n"
     ]
    },
    {
     "data": {
      "text/plain": [
       "torch.Size([60000])"
      ]
     },
     "execution_count": 7,
     "metadata": {},
     "output_type": "execute_result"
    }
   ],
   "source": [
    "train_data.train_labels.size()"
   ]
  },
  {
   "cell_type": "code",
   "execution_count": 8,
   "metadata": {},
   "outputs": [
    {
     "name": "stderr",
     "output_type": "stream",
     "text": [
      "/home/tqc/anaconda3/lib/python3.7/site-packages/torchvision/datasets/mnist.py:58: UserWarning: test_data has been renamed data\n",
      "  warnings.warn(\"test_data has been renamed data\")\n"
     ]
    },
    {
     "data": {
      "text/plain": [
       "torch.Size([10000, 28, 28])"
      ]
     },
     "execution_count": 8,
     "metadata": {},
     "output_type": "execute_result"
    }
   ],
   "source": [
    "test_data.test_data.size()"
   ]
  },
  {
   "cell_type": "code",
   "execution_count": 10,
   "metadata": {},
   "outputs": [],
   "source": [
    "train_loader=DataLoader(dataset=train_data,batch_size=60,shuffle=True)\n",
    "test_loader=DataLoader(dataset=test_data,batch_size=60)"
   ]
  },
  {
   "cell_type": "code",
   "execution_count": 11,
   "metadata": {},
   "outputs": [],
   "source": [
    "class Net(torch.nn.Module):\n",
    "    def __init__(self):\n",
    "        super(Net, self).__init__()\n",
    "        self.conv1 = torch.nn.Sequential(\n",
    "            torch.nn.Conv2d(1, 32, 3, 1, 1),\n",
    "            torch.nn.ReLU(),\n",
    "            torch.nn.MaxPool2d(2))\n",
    "        self.conv2 = torch.nn.Sequential(\n",
    "            torch.nn.Conv2d(32, 64, 3, 1, 1),\n",
    "            torch.nn.ReLU(),\n",
    "            torch.nn.MaxPool2d(2)\n",
    "        )\n",
    "        self.conv3 = torch.nn.Sequential(\n",
    "            torch.nn.Conv2d(64, 64, 3, 1, 1),\n",
    "            torch.nn.ReLU(),\n",
    "            torch.nn.MaxPool2d(2)\n",
    "        )\n",
    "        self.dense = torch.nn.Sequential(\n",
    "            torch.nn.Linear(64 * 3 * 3, 128),\n",
    "            torch.nn.ReLU(),\n",
    "            torch.nn.Linear(128, 10)\n",
    "        )\n",
    "\n",
    "    def forward(self, x):\n",
    "        conv1_out = self.conv1(x)\n",
    "        conv2_out = self.conv2(conv1_out)\n",
    "        conv3_out = self.conv3(conv2_out)\n",
    "        res = conv3_out.view(conv3_out.size(0), -1)\n",
    "        out = self.dense(res)\n",
    "        return out"
   ]
  },
  {
   "cell_type": "code",
   "execution_count": 12,
   "metadata": {},
   "outputs": [
    {
     "data": {
      "text/plain": [
       "Net(\n",
       "  (conv1): Sequential(\n",
       "    (0): Conv2d(1, 32, kernel_size=(3, 3), stride=(1, 1), padding=(1, 1))\n",
       "    (1): ReLU()\n",
       "    (2): MaxPool2d(kernel_size=2, stride=2, padding=0, dilation=1, ceil_mode=False)\n",
       "  )\n",
       "  (conv2): Sequential(\n",
       "    (0): Conv2d(32, 64, kernel_size=(3, 3), stride=(1, 1), padding=(1, 1))\n",
       "    (1): ReLU()\n",
       "    (2): MaxPool2d(kernel_size=2, stride=2, padding=0, dilation=1, ceil_mode=False)\n",
       "  )\n",
       "  (conv3): Sequential(\n",
       "    (0): Conv2d(64, 64, kernel_size=(3, 3), stride=(1, 1), padding=(1, 1))\n",
       "    (1): ReLU()\n",
       "    (2): MaxPool2d(kernel_size=2, stride=2, padding=0, dilation=1, ceil_mode=False)\n",
       "  )\n",
       "  (dense): Sequential(\n",
       "    (0): Linear(in_features=576, out_features=128, bias=True)\n",
       "    (1): ReLU()\n",
       "    (2): Linear(in_features=128, out_features=10, bias=True)\n",
       "  )\n",
       ")"
      ]
     },
     "execution_count": 12,
     "metadata": {},
     "output_type": "execute_result"
    }
   ],
   "source": [
    "model = Net()\n",
    "model"
   ]
  },
  {
   "cell_type": "code",
   "execution_count": 14,
   "metadata": {},
   "outputs": [],
   "source": [
    "optimizer = torch.optim.Adam(model.parameters())\n",
    "loss_func = torch.nn.CrossEntropyLoss()"
   ]
  },
  {
   "cell_type": "code",
   "execution_count": 15,
   "metadata": {},
   "outputs": [
    {
     "name": "stdout",
     "output_type": "stream",
     "text": [
      "epoch 1\n"
     ]
    },
    {
     "ename": "IndexError",
     "evalue": "invalid index of a 0-dim tensor. Use tensor.item() to convert a 0-dim tensor to a Python number",
     "output_type": "error",
     "traceback": [
      "\u001b[0;31m---------------------------------------------------------------------------\u001b[0m",
      "\u001b[0;31mIndexError\u001b[0m                                Traceback (most recent call last)",
      "\u001b[0;32m<ipython-input-15-3da529f1a06d>\u001b[0m in \u001b[0;36m<module>\u001b[0;34m\u001b[0m\n\u001b[1;32m      8\u001b[0m         \u001b[0mout\u001b[0m \u001b[0;34m=\u001b[0m \u001b[0mmodel\u001b[0m\u001b[0;34m(\u001b[0m\u001b[0mbatch_x\u001b[0m\u001b[0;34m)\u001b[0m\u001b[0;34m\u001b[0m\u001b[0;34m\u001b[0m\u001b[0m\n\u001b[1;32m      9\u001b[0m         \u001b[0mloss\u001b[0m \u001b[0;34m=\u001b[0m \u001b[0mloss_func\u001b[0m\u001b[0;34m(\u001b[0m\u001b[0mout\u001b[0m\u001b[0;34m,\u001b[0m \u001b[0mbatch_y\u001b[0m\u001b[0;34m)\u001b[0m\u001b[0;34m\u001b[0m\u001b[0;34m\u001b[0m\u001b[0m\n\u001b[0;32m---> 10\u001b[0;31m         \u001b[0mtrain_loss\u001b[0m \u001b[0;34m+=\u001b[0m \u001b[0mloss\u001b[0m\u001b[0;34m.\u001b[0m\u001b[0mdata\u001b[0m\u001b[0;34m[\u001b[0m\u001b[0;36m0\u001b[0m\u001b[0;34m]\u001b[0m\u001b[0;34m\u001b[0m\u001b[0;34m\u001b[0m\u001b[0m\n\u001b[0m\u001b[1;32m     11\u001b[0m         \u001b[0mpred\u001b[0m \u001b[0;34m=\u001b[0m \u001b[0mtorch\u001b[0m\u001b[0;34m.\u001b[0m\u001b[0mmax\u001b[0m\u001b[0;34m(\u001b[0m\u001b[0mout\u001b[0m\u001b[0;34m,\u001b[0m \u001b[0;36m1\u001b[0m\u001b[0;34m)\u001b[0m\u001b[0;34m[\u001b[0m\u001b[0;36m1\u001b[0m\u001b[0;34m]\u001b[0m\u001b[0;34m\u001b[0m\u001b[0;34m\u001b[0m\u001b[0m\n\u001b[1;32m     12\u001b[0m         \u001b[0mtrain_correct\u001b[0m \u001b[0;34m=\u001b[0m \u001b[0;34m(\u001b[0m\u001b[0mpred\u001b[0m \u001b[0;34m==\u001b[0m \u001b[0mbatch_y\u001b[0m\u001b[0;34m)\u001b[0m\u001b[0;34m.\u001b[0m\u001b[0msum\u001b[0m\u001b[0;34m(\u001b[0m\u001b[0;34m)\u001b[0m\u001b[0;34m\u001b[0m\u001b[0;34m\u001b[0m\u001b[0m\n",
      "\u001b[0;31mIndexError\u001b[0m: invalid index of a 0-dim tensor. Use tensor.item() to convert a 0-dim tensor to a Python number"
     ]
    }
   ],
   "source": [
    "for epoch in range(10):\n",
    "    print(f'epoch {epoch + 1}')\n",
    "    # training-----------------------------\n",
    "    train_loss = 0.\n",
    "    train_acc = 0.\n",
    "    for batch_x, batch_y in train_loader:\n",
    "        batch_x, batch_y = Variable(batch_x), Variable(batch_y)\n",
    "        out = model(batch_x)\n",
    "        loss = loss_func(out, batch_y)\n",
    "        train_loss += loss.data[0]\n",
    "        pred = torch.max(out, 1)[1]\n",
    "        train_correct = (pred == batch_y).sum()\n",
    "        train_acc += train_correct.data[0]\n",
    "        optimizer.zero_grad()\n",
    "        loss.backward()\n",
    "        optimizer.step()\n",
    "    print(f'Train Loss: {train_loss / len(train_data):.6f}, Acc: {train_acc / len(train_data):.6f}')\n",
    "\n",
    "    # evaluation--------------------------------\n",
    "    model.eval()\n",
    "    eval_loss = 0.\n",
    "    eval_acc = 0.\n",
    "    for batch_x, batch_y in test_loader:\n",
    "        batch_x, batch_y = Variable(batch_x, volatile=True), Variable(batch_y, volatile=True)\n",
    "        out = model(batch_x)\n",
    "        loss = loss_func(out, batch_y)\n",
    "        eval_loss += loss.data[0]\n",
    "        pred = torch.max(out, 1)[1]\n",
    "        num_correct = (pred == batch_y).sum()\n",
    "        eval_acc += num_correct.data[0]\n",
    "    print(f'Train Loss: {eval_loss / len(test_data):.6f}, Acc: {eval_acc / len(test_data):.6f}')"
   ]
  },
  {
   "cell_type": "code",
   "execution_count": null,
   "metadata": {},
   "outputs": [],
   "source": []
  }
 ],
 "metadata": {
  "kernelspec": {
   "display_name": "Python 3",
   "language": "python",
   "name": "python3"
  },
  "language_info": {
   "codemirror_mode": {
    "name": "ipython",
    "version": 3
   },
   "file_extension": ".py",
   "mimetype": "text/x-python",
   "name": "python",
   "nbconvert_exporter": "python",
   "pygments_lexer": "ipython3",
   "version": "3.7.1"
  }
 },
 "nbformat": 4,
 "nbformat_minor": 2
}
