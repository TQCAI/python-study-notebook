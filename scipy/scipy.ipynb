{
 "cells": [
  {
   "cell_type": "code",
   "execution_count": 2,
   "metadata": {
    "collapsed": true
   },
   "outputs": [],
   "source": [
    "from scipy import special\n",
    "from scipy import special"
   ]
  },
  {
   "cell_type": "code",
   "execution_count": 3,
   "metadata": {},
   "outputs": [
    {
     "name": "stdout",
     "output_type": "stream",
     "text": [
      "SpecialFunctionError\nSpecialFunctionWarning\nTester\n__all__\n__builtins__\n__cached__\n__doc__\n__file__\n__loader__\n__name__\n__package__\n__path__\n__spec__\n_comb\n_ellip_harm\n_ellip_harm_2\n_logsumexp\n_spherical_bessel\n_ufuncs\n_ufuncs_cxx\nabsolute_import\nagm\nai_zeros\nairy\nairye\nassoc_laguerre\nbasic\nbdtr\nbdtrc\nbdtri\nbdtrik\nbdtrin\nbei\nbei_zeros\nbeip\nbeip_zeros\nber\nber_zeros\nbernoulli\nberp\nberp_zeros\nbessel_diff_formula\nbesselpoly\nbeta\nbetainc\nbetaincinv\nbetaln\nbi_zeros\nbinom\nboxcox\nboxcox1p\nbtdtr\nbtdtri\nbtdtria\nbtdtrib\nc_roots\ncbrt\ncg_roots\nchdtr\nchdtrc\nchdtri\nchdtriv\nchebyc\nchebys\nchebyt\nchebyu\nchndtr\nchndtridf\nchndtrinc\nchndtrix"
     ]
    },
    {
     "name": "stdout",
     "output_type": "stream",
     "text": [
      "\nclpmn\ncomb\ncosdg\ncosm1\ncotdg\ndawsn\ndigamma\ndiric\ndivision\nellip_harm\nellip_harm_2\nellip_normal\nellipe\nellipeinc\nellipj\nellipk\nellipkinc\nellipkm1\nentr\nerf\nerf_zeros\nerfc\nerfcinv\nerfcx\nerfi\nerfinv\nerrprint\nerrstate\neuler\neval_chebyc\neval_chebys\neval_chebyt\neval_chebyu\neval_gegenbauer\neval_genlaguerre\neval_hermite\neval_hermitenorm\neval_jacobi\neval_laguerre\neval_legendre\neval_sh_chebyt\neval_sh_chebyu\neval_sh_jacobi\neval_sh_legendre\nexp1\nexp10\nexp2\nexpi\nexpit\nexpm1\nexpn\nexprel\nfactorial\nfactorial2\nfactorialk\nfdtr\nfdtrc\nfdtri\nfdtridfd\nfresnel\nfresnel_zeros\nfresnelc_zeros\nfresnels_zeros\ngamma\ngammainc\ngammaincc\ngammainccinv\ngammaincinv\ngammaln\ngammasgn\ngdtr\ngdtrc\ngdtria\ngdtrib\ngdtrix\ngegenbauer\ngenlaguerre\ngeterr\nh1vp\nh2vp\nh_roots\nhankel1\nhankel1e\nhankel2\nhankel2e\nhe_roots\nhermite\nhermitenorm\nhuber\nhyp0f1\nhyp1f1\nhyp1f2\nhyp2f0\nhyp2f1\nhyp3f0\nhyperu\ni0\ni0e\ni1\ni1e\ninv_boxcox\ninv_boxcox1p\nit2i0k0\nit2j0y0\nit2struve0\nitairy\niti0k0\nitj0y0\nitmodstruve0\nitstruve0\niv\nive\nivp\nj0\nj1\nj_roots\njacobi\njn\njn_zeros\njnjnp_zeros\njnp_zeros\njnyn_zeros\njs_roots\njv\njve\njvp\nk0\nk0e\nk1\nk1e\nkei\nkei_zeros\nkeip\nkeip_zeros\nkelvin\nkelvin_zeros\nker\nker_zeros\nkerp\nkerp_zeros\nkl_div\nkn\nkolmogi\nkolmogorov\nkv\nkve\nkvp\nl_roots\nla_roots\nlaguerre\nlambertw\nlegendre\nlmbda\nlog1p\nlog_ndtr\nloggamma\nlogit\nlogsumexp\nlpmn\nlpmv\nlpn\nlqmn\nlqn\nmathieu_a\nmathieu_b\nmathieu_cem\nmathieu_even_coef\nmathieu_modcem1\nmathieu_modcem2\nmathieu_modsem1\nmathieu_modsem2\nmathieu_odd_coef\nmathieu_sem\nmodfresnelm\nmodfresnelp\nmodstruve\nmultigammaln\nnbdtr\nnbdtrc\nnbdtri\nnbdtrik\nnbdtrin\nncfdtr\nncfdtri\nncfdtridfd\nncfdtridfn\nncfdtrinc\nnctdtr\nnctdtridf\nnctdtrinc\nnctdtrit\nndtr\nndtri\nnp\nnrdtrimn\nnrdtrisd\nobl_ang1\nobl_ang1_cv\nobl_cv\nobl_cv_seq\nobl_rad1\nobl_rad1_cv\nobl_rad2\nobl_rad2_cv\northogonal\np_roots\npbdn_seq\npbdv\npbdv_seq\npbvv\npbvv_seq\npbwa\npdtr\npdtrc\npdtri\npdtrik\nperm\npoch\npolygamma\nprint_function\npro_ang1\npro_ang1_cv\npro_cv\npro_cv_seq\npro_rad1\npro_rad1_cv\npro_rad2\npro_rad2_cv\nps_roots\npseudo_huber\npsi\nradian\nrel_entr\nrgamma\nriccati_jn\nriccati_yn\nroots_chebyc\nroots_chebys\nroots_chebyt\nroots_chebyu\nroots_gegenbauer\nroots_genlaguerre\nroots_hermite\nroots_hermitenorm\nroots_jacobi\nroots_laguerre\nroots_legendre\nroots_sh_chebyt\nroots_sh_chebyu\nroots_sh_jacobi\nroots_sh_legendre\nround\ns_roots\nseterr\nsf_error\nsh_chebyt\nsh_chebyu\nsh_jacobi\nsh_legendre\nshichi\nsici\nsinc\nsindg\nsmirnov\nsmirnovi\nspecfun\nspence\nspfun_stats\nsph_harm\nsph_in\nsph_inkn\nsph_jn\nsph_jnyn\nsph_kn\nsph_yn\nspherical_in\nspherical_jn\nspherical_kn\nspherical_yn\nstdtr\nstdtridf\nstdtrit\nstruve\nt_roots\ntandg\ntest\ntklmbda\nts_roots\nu_roots\nus_roots\nwofz\nwrightomega\nxlog1py\nxlogy\ny0\ny0_zeros\ny1\ny1_zeros\ny1p_zeros\nyn\nyn_zeros\nynp_zeros\nyv\nyve\nyvp\nzeta\nzetac\n"
     ]
    }
   ],
   "source": [
    "for i in dir(special):\n",
    "    print(i)"
   ]
  }
 ],
 "metadata": {
  "kernelspec": {
   "display_name": "Python 2",
   "language": "python",
   "name": "python2"
  },
  "language_info": {
   "codemirror_mode": {
    "name": "ipython",
    "version": 2
   },
   "file_extension": ".py",
   "mimetype": "text/x-python",
   "name": "python",
   "nbconvert_exporter": "python",
   "pygments_lexer": "ipython2",
   "version": "2.7.6"
  }
 },
 "nbformat": 4,
 "nbformat_minor": 0
}
